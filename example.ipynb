{
 "cells": [
  {
   "cell_type": "code",
   "execution_count": 1,
   "id": "318fa886",
   "metadata": {},
   "outputs": [
    {
     "name": "stdout",
     "output_type": "stream",
     "text": [
      "Segmentation Models: using `keras` framework.\n"
     ]
    }
   ],
   "source": [
    "import numpy as np\n",
    "from tensorflow.keras.utils import to_categorical\n",
    "from models.unet import unet\n",
    "from tensorflow import keras\n",
    "import tensorflow as tf\n",
    "from utils.util import get_train_val_dataloader\n",
    "from utils.callbacks import SelectCallbacks\n",
    "from utils.loss import focal_loss\n",
    "from utils.metrics import get_metrics"
   ]
  },
  {
   "cell_type": "code",
   "execution_count": 35,
   "id": "b097c0fb",
   "metadata": {},
   "outputs": [
    {
     "name": "stdout",
     "output_type": "stream",
     "text": [
      "1044\n",
      "1044\n"
     ]
    }
   ],
   "source": [
    "!python examples/dubai.py"
   ]
  },
  {
   "cell_type": "code",
   "execution_count": 13,
   "id": "3b0aaf14",
   "metadata": {},
   "outputs": [
    {
     "name": "stdout",
     "output_type": "stream",
     "text": [
      "Loading features and masks directories.....\n",
      "train Example : 1044\n",
      "valid Example : 130\n",
      "  6/348 [..............................] - ETA: 52s - loss: 0.1355 - my_mean_iou: 0.0525 - f1-score: 0.1922 - precision: 0.2683 - recall: 0.1702 - dice_coef_score: 0.2160 WARNING:tensorflow:Callback method `on_train_batch_end` is slow compared to the batch time (batch time: 0.0330s vs `on_train_batch_end` time: 0.0999s). Check your callbacks.\n",
      "348/348 [==============================] - 33s 71ms/step - loss: 0.1302 - my_mean_iou: 0.1056 - f1-score: 0.1944 - precision: 0.2784 - recall: 0.1757 - dice_coef_score: 0.3336 - val_loss: 0.1406 - val_my_mean_iou: 0.0852 - val_f1-score: 0.1583 - val_precision: 0.1908 - val_recall: 0.3708 - val_dice_coef_score: 0.3349\n"
     ]
    },
    {
     "data": {
      "text/plain": [
       "<keras.callbacks.History at 0x17bef1b7ac0>"
      ]
     },
     "execution_count": 13,
     "metadata": {},
     "output_type": "execute_result"
    }
   ],
   "source": [
    "import json\n",
    "import cv2\n",
    "from examples.dubai import transform_data\n",
    "\n",
    "\n",
    "# Note: this function must have the following structure\n",
    "def read_img(directory, label=False, patch_idx=None):\n",
    "    \"\"\"\n",
    "    Summary:\n",
    "        read image with opencv and normalize the feature\n",
    "    Arguments:\n",
    "        directory (str): image path to read\n",
    "        label (bool): the path is label path or not\n",
    "        patch_idx (list): if want to extract patch from original image\n",
    "    Return:\n",
    "        numpy.array\n",
    "    \"\"\"\n",
    "\n",
    "\n",
    "    if label:\n",
    "        return cv2.cvtColor(cv2.imread(directory, 1), cv2.COLOR_BGR2RGB) # read and convert from BGR to RGB\n",
    "    else:\n",
    "        return cv2.imread(directory, 1)/255 # MinMaxScaler can be used for normalize\n",
    "\n",
    "\n",
    "with open('config.json') as json_file:\n",
    "    config = json.load(json_file)\n",
    "\n",
    "config[\"transform_data\"] = transform_data # this function will only apply on label\n",
    "config[\"img_read_fn\"] = read_img # this function execution will depend data whether its label or feature\n",
    "train, val, config = get_train_val_dataloader(config)\n",
    "\n",
    "metrics = list(get_metrics(config).values())\n",
    "\n",
    "model = unet(config)\n",
    "adam = keras.optimizers.Adam(learning_rate = config['learning_rate'])\n",
    "loggers = SelectCallbacks(val, model, config)\n",
    "model.compile(optimizer = adam, loss = focal_loss(), metrics = metrics)\n",
    "\n",
    "history = model.fit(train,verbose = 1,epochs = 1,validation_data = val, shuffle = False, callbacks = loggers.get_callbacks())"
   ]
  },
  {
   "cell_type": "code",
   "execution_count": null,
   "id": "75265a04",
   "metadata": {},
   "outputs": [],
   "source": []
  }
 ],
 "metadata": {
  "kernelspec": {
   "display_name": "Python [conda env:tf-gpu]",
   "language": "python",
   "name": "conda-env-tf-gpu-py"
  },
  "language_info": {
   "codemirror_mode": {
    "name": "ipython",
    "version": 3
   },
   "file_extension": ".py",
   "mimetype": "text/x-python",
   "name": "python",
   "nbconvert_exporter": "python",
   "pygments_lexer": "ipython3",
   "version": "3.9.7"
  }
 },
 "nbformat": 4,
 "nbformat_minor": 5
}
